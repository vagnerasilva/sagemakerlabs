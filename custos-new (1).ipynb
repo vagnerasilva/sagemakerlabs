{
 "cells": [
  {
   "cell_type": "code",
   "execution_count": 1,
   "id": "bb39f43f-fa08-46ed-b61d-818f6dc2d300",
   "metadata": {
    "tags": []
   },
   "outputs": [],
   "source": [
    "import pandas as pd\n",
    "from datetime import datetime\n",
    "current_dateTime = datetime.now()"
   ]
  },
  {
   "cell_type": "code",
   "execution_count": 2,
   "id": "24570c43-6b4e-4825-833e-4dc2e2ee62bd",
   "metadata": {
    "tags": []
   },
   "outputs": [],
   "source": [
    "import datetime\n",
    "date_end = datetime.datetime(2023, 12, 31, 18, 0)\n",
    "date_ = datetime.datetime(2023, 7, 27, 7, 0)"
   ]
  },
  {
   "cell_type": "code",
   "execution_count": 3,
   "id": "f7aacd99-7540-4c8d-a0bf-13b9a0227308",
   "metadata": {
    "tags": []
   },
   "outputs": [
    {
     "data": {
      "text/plain": [
       "datetime.datetime(2023, 7, 27, 7, 0)"
      ]
     },
     "execution_count": 3,
     "metadata": {},
     "output_type": "execute_result"
    }
   ],
   "source": [
    "date_"
   ]
  },
  {
   "cell_type": "code",
   "execution_count": 4,
   "id": "747ab086-838f-4f7f-a93a-9e01b60bedd6",
   "metadata": {
    "tags": []
   },
   "outputs": [
    {
     "data": {
      "text/plain": [
       "datetime.datetime(2023, 8, 21, 23, 58, 52, 75977)"
      ]
     },
     "execution_count": 4,
     "metadata": {},
     "output_type": "execute_result"
    }
   ],
   "source": [
    "current_dateTime"
   ]
  },
  {
   "cell_type": "code",
   "execution_count": 5,
   "id": "ab1fe040-6da2-4662-ad32-28f538b3c04f",
   "metadata": {
    "tags": []
   },
   "outputs": [
    {
     "name": "stdout",
     "output_type": "stream",
     "text": [
      "2023\n",
      "8\n",
      "21\n"
     ]
    }
   ],
   "source": [
    "print(current_dateTime.year)\n",
    "print(current_dateTime.month)\n",
    "print(current_dateTime.day)"
   ]
  },
  {
   "cell_type": "code",
   "execution_count": 6,
   "id": "4dc14ea7-461c-4677-9562-c1d30697fc76",
   "metadata": {
    "tags": []
   },
   "outputs": [],
   "source": [
    "data = {\n",
    "    \"account_id\":        [503466128614,503466128613,503466128614,503466128614],\n",
    "    \"user_profile_name\": [\"usuario1\", \"usuario2\", \"usuario3\", \"usuario4\"],\n",
    "    \"instance\":         [\"ml-m5-24xl\",\"ml-m5-16xl\",\"ml-m5-4xla\",\"ml-m5-4xlarge\"],\n",
    "    \"dias_ligadas\":      [264, 331, 299, 279],\n",
    "    \"app_raw\":           [\"mlops-ubunt-ml-m5-24xl-lcc-contain-4c727d0847d\",\"ml-m5-4xla-contain-5fc727d0847d\",\"ml-m5-4xla-lcc-contain-78ghy7d0847d\",\"mlops-ubunt-ml-m5-24xl-lcc-contain-4c727d0847d\"],\n",
    "    \"custo ($)\":         [55839.168, 46671.0000, 12400.128,9836.424]\n",
    "}"
   ]
  },
  {
   "cell_type": "code",
   "execution_count": 7,
   "id": "254b80dd-c727-4464-9085-404308085c4a",
   "metadata": {
    "tags": []
   },
   "outputs": [],
   "source": [
    "df_27 = pd.DataFrame(data)"
   ]
  },
  {
   "cell_type": "code",
   "execution_count": 8,
   "id": "11ed5c85-7119-4735-8c11-c1188d6c52f0",
   "metadata": {
    "tags": []
   },
   "outputs": [],
   "source": [
    "df_27[\"date\"] = date_"
   ]
  },
  {
   "cell_type": "code",
   "execution_count": 9,
   "id": "cdce6c2a-d64b-4bcf-84dd-5ef8b42674b9",
   "metadata": {
    "tags": []
   },
   "outputs": [],
   "source": [
    "data_31 = {\n",
    "    \"account_id\":        [503466128614,503466128614,503466128614],\n",
    "    \"user_profile_name\": [\"usuario1\", \"usuario3\", \"usuario7\"],\n",
    "    \"instance\":         [\"ml-m5-24xl\",\"ml-m5-4xla\",\"ml-m5-4xlargea\"],\n",
    "    \"dias_ligadas\":      [267, 304, 13],\n",
    "    \"app_raw\":           [\"mlops-ubunt-ml-m5-24xl-lcc-contain-4c727d0847d\",\"ml-m5-4xla-lcc-contain-78ghy7d0847d\",\"mlops-ubunt-ml-m5-24xla-lcc-contain-4c727d0847d\"],\n",
    "    \"custo ($)\":         [55839.168, 12400.128,9836.424]\n",
    "}"
   ]
  },
  {
   "cell_type": "code",
   "execution_count": 10,
   "id": "5194b6dd-e3b7-4de9-acfe-913252392335",
   "metadata": {
    "tags": []
   },
   "outputs": [],
   "source": [
    "df_31 = pd.DataFrame(data_31)\n",
    "date_31 = datetime.datetime(2023, 7, 31, 7, 0)"
   ]
  },
  {
   "cell_type": "code",
   "execution_count": 11,
   "id": "67bc7ca7-c506-4fa7-8334-ca8b63ebc229",
   "metadata": {
    "tags": []
   },
   "outputs": [],
   "source": [
    "df_31[\"date\"] = date_31"
   ]
  },
  {
   "cell_type": "code",
   "execution_count": 12,
   "id": "9e36f62c-30b0-4987-9c4b-78479e72abc9",
   "metadata": {
    "tags": []
   },
   "outputs": [],
   "source": [
    "lst = []\n",
    "for index, row in df_31.iterrows():\n",
    "    newline = {\n",
    "                \"account_id\": row[\"account_id\"],\n",
    "                \"user_profile_name\": row[\"user_profile_name\"],\n",
    "                \"instance\": row[\"instance\"],\n",
    "                \"dias_ligadas\": row[\"dias_ligadas\"],\n",
    "                \"app_raw\": row[\"app_raw\"],\n",
    "                \"custo ($)\": row[\"custo ($)\"],\n",
    "                \"date\": row[\"date\"]\n",
    "               }\n",
    "    lst.append(newline)"
   ]
  },
  {
   "cell_type": "code",
   "execution_count": 13,
   "id": "a33ef5fc-9f6a-4402-84b1-3d9103fca3d0",
   "metadata": {
    "tags": []
   },
   "outputs": [],
   "source": [
    "df_extended = pd.DataFrame(lst, columns=['account_id', 'user_profile_name', 'instance','dias_ligadas','app_raw','custo ($)','date'])"
   ]
  },
  {
   "cell_type": "code",
   "execution_count": 14,
   "id": "082257f0-d86a-4a4a-b3ce-69c01ffc11d6",
   "metadata": {
    "tags": []
   },
   "outputs": [
    {
     "data": {
      "text/html": [
       "<div>\n",
       "<style scoped>\n",
       "    .dataframe tbody tr th:only-of-type {\n",
       "        vertical-align: middle;\n",
       "    }\n",
       "\n",
       "    .dataframe tbody tr th {\n",
       "        vertical-align: top;\n",
       "    }\n",
       "\n",
       "    .dataframe thead th {\n",
       "        text-align: right;\n",
       "    }\n",
       "</style>\n",
       "<table border=\"1\" class=\"dataframe\">\n",
       "  <thead>\n",
       "    <tr style=\"text-align: right;\">\n",
       "      <th></th>\n",
       "      <th>account_id</th>\n",
       "      <th>user_profile_name</th>\n",
       "      <th>instance</th>\n",
       "      <th>dias_ligadas</th>\n",
       "      <th>app_raw</th>\n",
       "      <th>custo ($)</th>\n",
       "      <th>date</th>\n",
       "    </tr>\n",
       "  </thead>\n",
       "  <tbody>\n",
       "    <tr>\n",
       "      <th>0</th>\n",
       "      <td>503466128614</td>\n",
       "      <td>usuario1</td>\n",
       "      <td>ml-m5-24xl</td>\n",
       "      <td>267</td>\n",
       "      <td>mlops-ubunt-ml-m5-24xl-lcc-contain-4c727d0847d</td>\n",
       "      <td>55839.168</td>\n",
       "      <td>2023-07-31 07:00:00</td>\n",
       "    </tr>\n",
       "    <tr>\n",
       "      <th>1</th>\n",
       "      <td>503466128614</td>\n",
       "      <td>usuario3</td>\n",
       "      <td>ml-m5-4xla</td>\n",
       "      <td>304</td>\n",
       "      <td>ml-m5-4xla-lcc-contain-78ghy7d0847d</td>\n",
       "      <td>12400.128</td>\n",
       "      <td>2023-07-31 07:00:00</td>\n",
       "    </tr>\n",
       "    <tr>\n",
       "      <th>2</th>\n",
       "      <td>503466128614</td>\n",
       "      <td>usuario7</td>\n",
       "      <td>ml-m5-4xlargea</td>\n",
       "      <td>13</td>\n",
       "      <td>mlops-ubunt-ml-m5-24xla-lcc-contain-4c727d0847d</td>\n",
       "      <td>9836.424</td>\n",
       "      <td>2023-07-31 07:00:00</td>\n",
       "    </tr>\n",
       "  </tbody>\n",
       "</table>\n",
       "</div>"
      ],
      "text/plain": [
       "     account_id user_profile_name        instance  dias_ligadas  \\\n",
       "0  503466128614          usuario1      ml-m5-24xl           267   \n",
       "1  503466128614          usuario3      ml-m5-4xla           304   \n",
       "2  503466128614          usuario7  ml-m5-4xlargea            13   \n",
       "\n",
       "                                           app_raw  custo ($)  \\\n",
       "0   mlops-ubunt-ml-m5-24xl-lcc-contain-4c727d0847d  55839.168   \n",
       "1              ml-m5-4xla-lcc-contain-78ghy7d0847d  12400.128   \n",
       "2  mlops-ubunt-ml-m5-24xla-lcc-contain-4c727d0847d   9836.424   \n",
       "\n",
       "                 date  \n",
       "0 2023-07-31 07:00:00  \n",
       "1 2023-07-31 07:00:00  \n",
       "2 2023-07-31 07:00:00  "
      ]
     },
     "execution_count": 14,
     "metadata": {},
     "output_type": "execute_result"
    }
   ],
   "source": [
    "df_extended"
   ]
  },
  {
   "cell_type": "code",
   "execution_count": 15,
   "id": "30f0dfc5-5a5c-441b-8d97-3c221a24e496",
   "metadata": {
    "tags": []
   },
   "outputs": [
    {
     "data": {
      "text/html": [
       "<div>\n",
       "<style scoped>\n",
       "    .dataframe tbody tr th:only-of-type {\n",
       "        vertical-align: middle;\n",
       "    }\n",
       "\n",
       "    .dataframe tbody tr th {\n",
       "        vertical-align: top;\n",
       "    }\n",
       "\n",
       "    .dataframe thead th {\n",
       "        text-align: right;\n",
       "    }\n",
       "</style>\n",
       "<table border=\"1\" class=\"dataframe\">\n",
       "  <thead>\n",
       "    <tr style=\"text-align: right;\">\n",
       "      <th></th>\n",
       "      <th>account_id</th>\n",
       "      <th>user_profile_name</th>\n",
       "      <th>instance</th>\n",
       "      <th>dias_ligadas</th>\n",
       "      <th>app_raw</th>\n",
       "      <th>custo ($)</th>\n",
       "      <th>date</th>\n",
       "    </tr>\n",
       "  </thead>\n",
       "  <tbody>\n",
       "    <tr>\n",
       "      <th>0</th>\n",
       "      <td>503466128614</td>\n",
       "      <td>usuario1</td>\n",
       "      <td>ml-m5-24xl</td>\n",
       "      <td>264</td>\n",
       "      <td>mlops-ubunt-ml-m5-24xl-lcc-contain-4c727d0847d</td>\n",
       "      <td>55839.168</td>\n",
       "      <td>2023-07-27 07:00:00</td>\n",
       "    </tr>\n",
       "    <tr>\n",
       "      <th>1</th>\n",
       "      <td>503466128613</td>\n",
       "      <td>usuario2</td>\n",
       "      <td>ml-m5-16xl</td>\n",
       "      <td>331</td>\n",
       "      <td>ml-m5-4xla-contain-5fc727d0847d</td>\n",
       "      <td>46671.000</td>\n",
       "      <td>2023-07-27 07:00:00</td>\n",
       "    </tr>\n",
       "    <tr>\n",
       "      <th>2</th>\n",
       "      <td>503466128614</td>\n",
       "      <td>usuario3</td>\n",
       "      <td>ml-m5-4xla</td>\n",
       "      <td>299</td>\n",
       "      <td>ml-m5-4xla-lcc-contain-78ghy7d0847d</td>\n",
       "      <td>12400.128</td>\n",
       "      <td>2023-07-27 07:00:00</td>\n",
       "    </tr>\n",
       "    <tr>\n",
       "      <th>3</th>\n",
       "      <td>503466128614</td>\n",
       "      <td>usuario4</td>\n",
       "      <td>ml-m5-4xlarge</td>\n",
       "      <td>279</td>\n",
       "      <td>mlops-ubunt-ml-m5-24xl-lcc-contain-4c727d0847d</td>\n",
       "      <td>9836.424</td>\n",
       "      <td>2023-07-27 07:00:00</td>\n",
       "    </tr>\n",
       "  </tbody>\n",
       "</table>\n",
       "</div>"
      ],
      "text/plain": [
       "     account_id user_profile_name       instance  dias_ligadas  \\\n",
       "0  503466128614          usuario1     ml-m5-24xl           264   \n",
       "1  503466128613          usuario2     ml-m5-16xl           331   \n",
       "2  503466128614          usuario3     ml-m5-4xla           299   \n",
       "3  503466128614          usuario4  ml-m5-4xlarge           279   \n",
       "\n",
       "                                          app_raw  custo ($)  \\\n",
       "0  mlops-ubunt-ml-m5-24xl-lcc-contain-4c727d0847d  55839.168   \n",
       "1                 ml-m5-4xla-contain-5fc727d0847d  46671.000   \n",
       "2             ml-m5-4xla-lcc-contain-78ghy7d0847d  12400.128   \n",
       "3  mlops-ubunt-ml-m5-24xl-lcc-contain-4c727d0847d   9836.424   \n",
       "\n",
       "                 date  \n",
       "0 2023-07-27 07:00:00  \n",
       "1 2023-07-27 07:00:00  \n",
       "2 2023-07-27 07:00:00  \n",
       "3 2023-07-27 07:00:00  "
      ]
     },
     "execution_count": 15,
     "metadata": {},
     "output_type": "execute_result"
    }
   ],
   "source": [
    "df_27"
   ]
  },
  {
   "cell_type": "code",
   "execution_count": 16,
   "id": "3f0afd2f-d656-4c25-a25f-db7b4e617e4a",
   "metadata": {
    "tags": []
   },
   "outputs": [],
   "source": [
    "df_out = pd.concat([df_27, df_extended])"
   ]
  },
  {
   "cell_type": "code",
   "execution_count": 19,
   "id": "1876791e-8c9b-47d3-82c8-655b3f16299a",
   "metadata": {
    "tags": []
   },
   "outputs": [
    {
     "data": {
      "text/html": [
       "<div>\n",
       "<style scoped>\n",
       "    .dataframe tbody tr th:only-of-type {\n",
       "        vertical-align: middle;\n",
       "    }\n",
       "\n",
       "    .dataframe tbody tr th {\n",
       "        vertical-align: top;\n",
       "    }\n",
       "\n",
       "    .dataframe thead th {\n",
       "        text-align: right;\n",
       "    }\n",
       "</style>\n",
       "<table border=\"1\" class=\"dataframe\">\n",
       "  <thead>\n",
       "    <tr style=\"text-align: right;\">\n",
       "      <th></th>\n",
       "      <th>account_id</th>\n",
       "      <th>user_profile_name</th>\n",
       "      <th>instance</th>\n",
       "      <th>dias_ligadas</th>\n",
       "      <th>app_raw</th>\n",
       "      <th>custo ($)</th>\n",
       "      <th>date</th>\n",
       "    </tr>\n",
       "  </thead>\n",
       "  <tbody>\n",
       "    <tr>\n",
       "      <th>0</th>\n",
       "      <td>503466128614</td>\n",
       "      <td>usuario1</td>\n",
       "      <td>ml-m5-24xl</td>\n",
       "      <td>264</td>\n",
       "      <td>mlops-ubunt-ml-m5-24xl-lcc-contain-4c727d0847d</td>\n",
       "      <td>55839.168</td>\n",
       "      <td>2023-07-27 07:00:00</td>\n",
       "    </tr>\n",
       "    <tr>\n",
       "      <th>1</th>\n",
       "      <td>503466128613</td>\n",
       "      <td>usuario2</td>\n",
       "      <td>ml-m5-16xl</td>\n",
       "      <td>331</td>\n",
       "      <td>ml-m5-4xla-contain-5fc727d0847d</td>\n",
       "      <td>46671.000</td>\n",
       "      <td>2023-07-27 07:00:00</td>\n",
       "    </tr>\n",
       "    <tr>\n",
       "      <th>2</th>\n",
       "      <td>503466128614</td>\n",
       "      <td>usuario3</td>\n",
       "      <td>ml-m5-4xla</td>\n",
       "      <td>299</td>\n",
       "      <td>ml-m5-4xla-lcc-contain-78ghy7d0847d</td>\n",
       "      <td>12400.128</td>\n",
       "      <td>2023-07-27 07:00:00</td>\n",
       "    </tr>\n",
       "    <tr>\n",
       "      <th>3</th>\n",
       "      <td>503466128614</td>\n",
       "      <td>usuario4</td>\n",
       "      <td>ml-m5-4xlarge</td>\n",
       "      <td>279</td>\n",
       "      <td>mlops-ubunt-ml-m5-24xl-lcc-contain-4c727d0847d</td>\n",
       "      <td>9836.424</td>\n",
       "      <td>2023-07-27 07:00:00</td>\n",
       "    </tr>\n",
       "    <tr>\n",
       "      <th>0</th>\n",
       "      <td>503466128614</td>\n",
       "      <td>usuario1</td>\n",
       "      <td>ml-m5-24xl</td>\n",
       "      <td>267</td>\n",
       "      <td>mlops-ubunt-ml-m5-24xl-lcc-contain-4c727d0847d</td>\n",
       "      <td>55839.168</td>\n",
       "      <td>2023-07-31 07:00:00</td>\n",
       "    </tr>\n",
       "    <tr>\n",
       "      <th>1</th>\n",
       "      <td>503466128614</td>\n",
       "      <td>usuario3</td>\n",
       "      <td>ml-m5-4xla</td>\n",
       "      <td>304</td>\n",
       "      <td>ml-m5-4xla-lcc-contain-78ghy7d0847d</td>\n",
       "      <td>12400.128</td>\n",
       "      <td>2023-07-31 07:00:00</td>\n",
       "    </tr>\n",
       "    <tr>\n",
       "      <th>2</th>\n",
       "      <td>503466128614</td>\n",
       "      <td>usuario7</td>\n",
       "      <td>ml-m5-4xlargea</td>\n",
       "      <td>13</td>\n",
       "      <td>mlops-ubunt-ml-m5-24xla-lcc-contain-4c727d0847d</td>\n",
       "      <td>9836.424</td>\n",
       "      <td>2023-07-31 07:00:00</td>\n",
       "    </tr>\n",
       "  </tbody>\n",
       "</table>\n",
       "</div>"
      ],
      "text/plain": [
       "     account_id user_profile_name        instance  dias_ligadas  \\\n",
       "0  503466128614          usuario1      ml-m5-24xl           264   \n",
       "1  503466128613          usuario2      ml-m5-16xl           331   \n",
       "2  503466128614          usuario3      ml-m5-4xla           299   \n",
       "3  503466128614          usuario4   ml-m5-4xlarge           279   \n",
       "0  503466128614          usuario1      ml-m5-24xl           267   \n",
       "1  503466128614          usuario3      ml-m5-4xla           304   \n",
       "2  503466128614          usuario7  ml-m5-4xlargea            13   \n",
       "\n",
       "                                           app_raw  custo ($)  \\\n",
       "0   mlops-ubunt-ml-m5-24xl-lcc-contain-4c727d0847d  55839.168   \n",
       "1                  ml-m5-4xla-contain-5fc727d0847d  46671.000   \n",
       "2              ml-m5-4xla-lcc-contain-78ghy7d0847d  12400.128   \n",
       "3   mlops-ubunt-ml-m5-24xl-lcc-contain-4c727d0847d   9836.424   \n",
       "0   mlops-ubunt-ml-m5-24xl-lcc-contain-4c727d0847d  55839.168   \n",
       "1              ml-m5-4xla-lcc-contain-78ghy7d0847d  12400.128   \n",
       "2  mlops-ubunt-ml-m5-24xla-lcc-contain-4c727d0847d   9836.424   \n",
       "\n",
       "                 date  \n",
       "0 2023-07-27 07:00:00  \n",
       "1 2023-07-27 07:00:00  \n",
       "2 2023-07-27 07:00:00  \n",
       "3 2023-07-27 07:00:00  \n",
       "0 2023-07-31 07:00:00  \n",
       "1 2023-07-31 07:00:00  \n",
       "2 2023-07-31 07:00:00  "
      ]
     },
     "execution_count": 19,
     "metadata": {},
     "output_type": "execute_result"
    }
   ],
   "source": [
    "df_out.head(10)"
   ]
  },
  {
   "cell_type": "code",
   "execution_count": 20,
   "id": "60f6d6fe-5190-44fb-9e49-14938df5222a",
   "metadata": {
    "tags": []
   },
   "outputs": [],
   "source": [
    "df_out = df_out.sort_values(by=['user_profile_name','date'],ignore_index=True)"
   ]
  },
  {
   "cell_type": "code",
   "execution_count": 21,
   "id": "57307f59-4416-4b35-a883-f789cb124887",
   "metadata": {},
   "outputs": [
    {
     "data": {
      "text/html": [
       "<div>\n",
       "<style scoped>\n",
       "    .dataframe tbody tr th:only-of-type {\n",
       "        vertical-align: middle;\n",
       "    }\n",
       "\n",
       "    .dataframe tbody tr th {\n",
       "        vertical-align: top;\n",
       "    }\n",
       "\n",
       "    .dataframe thead th {\n",
       "        text-align: right;\n",
       "    }\n",
       "</style>\n",
       "<table border=\"1\" class=\"dataframe\">\n",
       "  <thead>\n",
       "    <tr style=\"text-align: right;\">\n",
       "      <th></th>\n",
       "      <th>account_id</th>\n",
       "      <th>user_profile_name</th>\n",
       "      <th>instance</th>\n",
       "      <th>dias_ligadas</th>\n",
       "      <th>app_raw</th>\n",
       "      <th>custo ($)</th>\n",
       "      <th>date</th>\n",
       "    </tr>\n",
       "  </thead>\n",
       "  <tbody>\n",
       "    <tr>\n",
       "      <th>0</th>\n",
       "      <td>503466128614</td>\n",
       "      <td>usuario1</td>\n",
       "      <td>ml-m5-24xl</td>\n",
       "      <td>264</td>\n",
       "      <td>mlops-ubunt-ml-m5-24xl-lcc-contain-4c727d0847d</td>\n",
       "      <td>55839.168</td>\n",
       "      <td>2023-07-27 07:00:00</td>\n",
       "    </tr>\n",
       "    <tr>\n",
       "      <th>1</th>\n",
       "      <td>503466128614</td>\n",
       "      <td>usuario1</td>\n",
       "      <td>ml-m5-24xl</td>\n",
       "      <td>267</td>\n",
       "      <td>mlops-ubunt-ml-m5-24xl-lcc-contain-4c727d0847d</td>\n",
       "      <td>55839.168</td>\n",
       "      <td>2023-07-31 07:00:00</td>\n",
       "    </tr>\n",
       "    <tr>\n",
       "      <th>2</th>\n",
       "      <td>503466128613</td>\n",
       "      <td>usuario2</td>\n",
       "      <td>ml-m5-16xl</td>\n",
       "      <td>331</td>\n",
       "      <td>ml-m5-4xla-contain-5fc727d0847d</td>\n",
       "      <td>46671.000</td>\n",
       "      <td>2023-07-27 07:00:00</td>\n",
       "    </tr>\n",
       "    <tr>\n",
       "      <th>3</th>\n",
       "      <td>503466128614</td>\n",
       "      <td>usuario3</td>\n",
       "      <td>ml-m5-4xla</td>\n",
       "      <td>299</td>\n",
       "      <td>ml-m5-4xla-lcc-contain-78ghy7d0847d</td>\n",
       "      <td>12400.128</td>\n",
       "      <td>2023-07-27 07:00:00</td>\n",
       "    </tr>\n",
       "    <tr>\n",
       "      <th>4</th>\n",
       "      <td>503466128614</td>\n",
       "      <td>usuario3</td>\n",
       "      <td>ml-m5-4xla</td>\n",
       "      <td>304</td>\n",
       "      <td>ml-m5-4xla-lcc-contain-78ghy7d0847d</td>\n",
       "      <td>12400.128</td>\n",
       "      <td>2023-07-31 07:00:00</td>\n",
       "    </tr>\n",
       "    <tr>\n",
       "      <th>5</th>\n",
       "      <td>503466128614</td>\n",
       "      <td>usuario4</td>\n",
       "      <td>ml-m5-4xlarge</td>\n",
       "      <td>279</td>\n",
       "      <td>mlops-ubunt-ml-m5-24xl-lcc-contain-4c727d0847d</td>\n",
       "      <td>9836.424</td>\n",
       "      <td>2023-07-27 07:00:00</td>\n",
       "    </tr>\n",
       "    <tr>\n",
       "      <th>6</th>\n",
       "      <td>503466128614</td>\n",
       "      <td>usuario7</td>\n",
       "      <td>ml-m5-4xlargea</td>\n",
       "      <td>13</td>\n",
       "      <td>mlops-ubunt-ml-m5-24xla-lcc-contain-4c727d0847d</td>\n",
       "      <td>9836.424</td>\n",
       "      <td>2023-07-31 07:00:00</td>\n",
       "    </tr>\n",
       "  </tbody>\n",
       "</table>\n",
       "</div>"
      ],
      "text/plain": [
       "     account_id user_profile_name        instance  dias_ligadas  \\\n",
       "0  503466128614          usuario1      ml-m5-24xl           264   \n",
       "1  503466128614          usuario1      ml-m5-24xl           267   \n",
       "2  503466128613          usuario2      ml-m5-16xl           331   \n",
       "3  503466128614          usuario3      ml-m5-4xla           299   \n",
       "4  503466128614          usuario3      ml-m5-4xla           304   \n",
       "5  503466128614          usuario4   ml-m5-4xlarge           279   \n",
       "6  503466128614          usuario7  ml-m5-4xlargea            13   \n",
       "\n",
       "                                           app_raw  custo ($)  \\\n",
       "0   mlops-ubunt-ml-m5-24xl-lcc-contain-4c727d0847d  55839.168   \n",
       "1   mlops-ubunt-ml-m5-24xl-lcc-contain-4c727d0847d  55839.168   \n",
       "2                  ml-m5-4xla-contain-5fc727d0847d  46671.000   \n",
       "3              ml-m5-4xla-lcc-contain-78ghy7d0847d  12400.128   \n",
       "4              ml-m5-4xla-lcc-contain-78ghy7d0847d  12400.128   \n",
       "5   mlops-ubunt-ml-m5-24xl-lcc-contain-4c727d0847d   9836.424   \n",
       "6  mlops-ubunt-ml-m5-24xla-lcc-contain-4c727d0847d   9836.424   \n",
       "\n",
       "                 date  \n",
       "0 2023-07-27 07:00:00  \n",
       "1 2023-07-31 07:00:00  \n",
       "2 2023-07-27 07:00:00  \n",
       "3 2023-07-27 07:00:00  \n",
       "4 2023-07-31 07:00:00  \n",
       "5 2023-07-27 07:00:00  \n",
       "6 2023-07-31 07:00:00  "
      ]
     },
     "execution_count": 21,
     "metadata": {},
     "output_type": "execute_result"
    }
   ],
   "source": [
    "df_out.head(10)"
   ]
  },
  {
   "cell_type": "code",
   "execution_count": 22,
   "id": "83d24991-28b5-41fb-9325-b205a4834b6e",
   "metadata": {
    "tags": []
   },
   "outputs": [],
   "source": [
    "df_out = df_out.reset_index(drop=True)"
   ]
  },
  {
   "cell_type": "code",
   "execution_count": 23,
   "id": "35455e74-9904-4daf-a029-b6bde717b45a",
   "metadata": {
    "tags": []
   },
   "outputs": [
    {
     "data": {
      "text/html": [
       "<div>\n",
       "<style scoped>\n",
       "    .dataframe tbody tr th:only-of-type {\n",
       "        vertical-align: middle;\n",
       "    }\n",
       "\n",
       "    .dataframe tbody tr th {\n",
       "        vertical-align: top;\n",
       "    }\n",
       "\n",
       "    .dataframe thead th {\n",
       "        text-align: right;\n",
       "    }\n",
       "</style>\n",
       "<table border=\"1\" class=\"dataframe\">\n",
       "  <thead>\n",
       "    <tr style=\"text-align: right;\">\n",
       "      <th></th>\n",
       "      <th>account_id</th>\n",
       "      <th>user_profile_name</th>\n",
       "      <th>instance</th>\n",
       "      <th>dias_ligadas</th>\n",
       "      <th>app_raw</th>\n",
       "      <th>custo ($)</th>\n",
       "      <th>date</th>\n",
       "    </tr>\n",
       "  </thead>\n",
       "  <tbody>\n",
       "    <tr>\n",
       "      <th>0</th>\n",
       "      <td>503466128614</td>\n",
       "      <td>usuario1</td>\n",
       "      <td>ml-m5-24xl</td>\n",
       "      <td>264</td>\n",
       "      <td>mlops-ubunt-ml-m5-24xl-lcc-contain-4c727d0847d</td>\n",
       "      <td>55839.168</td>\n",
       "      <td>2023-07-27 07:00:00</td>\n",
       "    </tr>\n",
       "    <tr>\n",
       "      <th>1</th>\n",
       "      <td>503466128614</td>\n",
       "      <td>usuario1</td>\n",
       "      <td>ml-m5-24xl</td>\n",
       "      <td>267</td>\n",
       "      <td>mlops-ubunt-ml-m5-24xl-lcc-contain-4c727d0847d</td>\n",
       "      <td>55839.168</td>\n",
       "      <td>2023-07-31 07:00:00</td>\n",
       "    </tr>\n",
       "    <tr>\n",
       "      <th>2</th>\n",
       "      <td>503466128613</td>\n",
       "      <td>usuario2</td>\n",
       "      <td>ml-m5-16xl</td>\n",
       "      <td>331</td>\n",
       "      <td>ml-m5-4xla-contain-5fc727d0847d</td>\n",
       "      <td>46671.000</td>\n",
       "      <td>2023-07-27 07:00:00</td>\n",
       "    </tr>\n",
       "    <tr>\n",
       "      <th>3</th>\n",
       "      <td>503466128614</td>\n",
       "      <td>usuario3</td>\n",
       "      <td>ml-m5-4xla</td>\n",
       "      <td>299</td>\n",
       "      <td>ml-m5-4xla-lcc-contain-78ghy7d0847d</td>\n",
       "      <td>12400.128</td>\n",
       "      <td>2023-07-27 07:00:00</td>\n",
       "    </tr>\n",
       "    <tr>\n",
       "      <th>4</th>\n",
       "      <td>503466128614</td>\n",
       "      <td>usuario3</td>\n",
       "      <td>ml-m5-4xla</td>\n",
       "      <td>304</td>\n",
       "      <td>ml-m5-4xla-lcc-contain-78ghy7d0847d</td>\n",
       "      <td>12400.128</td>\n",
       "      <td>2023-07-31 07:00:00</td>\n",
       "    </tr>\n",
       "    <tr>\n",
       "      <th>5</th>\n",
       "      <td>503466128614</td>\n",
       "      <td>usuario4</td>\n",
       "      <td>ml-m5-4xlarge</td>\n",
       "      <td>279</td>\n",
       "      <td>mlops-ubunt-ml-m5-24xl-lcc-contain-4c727d0847d</td>\n",
       "      <td>9836.424</td>\n",
       "      <td>2023-07-27 07:00:00</td>\n",
       "    </tr>\n",
       "    <tr>\n",
       "      <th>6</th>\n",
       "      <td>503466128614</td>\n",
       "      <td>usuario7</td>\n",
       "      <td>ml-m5-4xlargea</td>\n",
       "      <td>13</td>\n",
       "      <td>mlops-ubunt-ml-m5-24xla-lcc-contain-4c727d0847d</td>\n",
       "      <td>9836.424</td>\n",
       "      <td>2023-07-31 07:00:00</td>\n",
       "    </tr>\n",
       "  </tbody>\n",
       "</table>\n",
       "</div>"
      ],
      "text/plain": [
       "     account_id user_profile_name        instance  dias_ligadas  \\\n",
       "0  503466128614          usuario1      ml-m5-24xl           264   \n",
       "1  503466128614          usuario1      ml-m5-24xl           267   \n",
       "2  503466128613          usuario2      ml-m5-16xl           331   \n",
       "3  503466128614          usuario3      ml-m5-4xla           299   \n",
       "4  503466128614          usuario3      ml-m5-4xla           304   \n",
       "5  503466128614          usuario4   ml-m5-4xlarge           279   \n",
       "6  503466128614          usuario7  ml-m5-4xlargea            13   \n",
       "\n",
       "                                           app_raw  custo ($)  \\\n",
       "0   mlops-ubunt-ml-m5-24xl-lcc-contain-4c727d0847d  55839.168   \n",
       "1   mlops-ubunt-ml-m5-24xl-lcc-contain-4c727d0847d  55839.168   \n",
       "2                  ml-m5-4xla-contain-5fc727d0847d  46671.000   \n",
       "3              ml-m5-4xla-lcc-contain-78ghy7d0847d  12400.128   \n",
       "4              ml-m5-4xla-lcc-contain-78ghy7d0847d  12400.128   \n",
       "5   mlops-ubunt-ml-m5-24xl-lcc-contain-4c727d0847d   9836.424   \n",
       "6  mlops-ubunt-ml-m5-24xla-lcc-contain-4c727d0847d   9836.424   \n",
       "\n",
       "                 date  \n",
       "0 2023-07-27 07:00:00  \n",
       "1 2023-07-31 07:00:00  \n",
       "2 2023-07-27 07:00:00  \n",
       "3 2023-07-27 07:00:00  \n",
       "4 2023-07-31 07:00:00  \n",
       "5 2023-07-27 07:00:00  \n",
       "6 2023-07-31 07:00:00  "
      ]
     },
     "execution_count": 23,
     "metadata": {},
     "output_type": "execute_result"
    }
   ],
   "source": [
    "df_out.head(10)"
   ]
  },
  {
   "cell_type": "code",
   "execution_count": null,
   "id": "d7526fce-0e20-47ad-a711-fe6f3bd15ee7",
   "metadata": {},
   "outputs": [],
   "source": []
  }
 ],
 "metadata": {
  "kernelspec": {
   "display_name": "default:Python",
   "language": "python",
   "name": "conda-env-default-py"
  },
  "language_info": {
   "codemirror_mode": {
    "name": "ipython",
    "version": 3
   },
   "file_extension": ".py",
   "mimetype": "text/x-python",
   "name": "python",
   "nbconvert_exporter": "python",
   "pygments_lexer": "ipython3",
   "version": "3.9.16"
  }
 },
 "nbformat": 4,
 "nbformat_minor": 5
}
